{
 "cells": [
  {
   "cell_type": "code",
   "execution_count": 2,
   "metadata": {},
   "outputs": [
    {
     "name": "stdout",
     "output_type": "stream",
     "text": [
      "Press 1 to Deposite\n",
      "Press 2 to Check Balance\n",
      "Press 3 to Withdrawl\n",
      "2\n",
      "Your Current Balance is 500\n"
     ]
    }
   ],
   "source": [
    "print('Press 1 to Deposite')\n",
    "print('Press 2 to Check Balance')\n",
    "print('Press 3 to Withdrawl')\n",
    "\n",
    "button = int(input(''))\n",
    "\n",
    "if button == 1 :\n",
    "    Deposite = int(input('Enter Amount'))\n",
    "    \n",
    "elif button == 2 : \n",
    "    print(f'Your Current Balance is {Deposite}')\n",
    "    \n",
    "elif button == 3 :\n",
    "    Withdrawl = int(input('Enter Amount'))\n",
    "    \n",
    "    if Withdrawl <= 500 :\n",
    "        print('Your Amount is less than 500')\n",
    "        \n",
    "    elif Withdrawl > Deposite :\n",
    "        print('Your Amount is insufficient')\n",
    "    \n",
    "    else : \n",
    "        abc= Deposite - Withdrawl\n",
    "        print(f'Now your Remaining Balance is {abc}')\n",
    "    "
   ]
  },
  {
   "cell_type": "code",
   "execution_count": null,
   "metadata": {},
   "outputs": [],
   "source": []
  }
 ],
 "metadata": {
  "kernelspec": {
   "display_name": "Python 3",
   "language": "python",
   "name": "python3"
  },
  "language_info": {
   "codemirror_mode": {
    "name": "ipython",
    "version": 3
   },
   "file_extension": ".py",
   "mimetype": "text/x-python",
   "name": "python",
   "nbconvert_exporter": "python",
   "pygments_lexer": "ipython3",
   "version": "3.7.3"
  }
 },
 "nbformat": 4,
 "nbformat_minor": 2
}
