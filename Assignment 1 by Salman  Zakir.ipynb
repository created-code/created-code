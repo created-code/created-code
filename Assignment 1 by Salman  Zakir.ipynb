{
 "cells": [
  {
   "cell_type": "markdown",
   "metadata": {},
   "source": [
    "# Q1:"
   ]
  },
  {
   "cell_type": "raw",
   "metadata": {},
   "source": [
    "Store a message in a variable, and then print that\n",
    "message."
   ]
  },
  {
   "cell_type": "code",
   "execution_count": 1,
   "metadata": {},
   "outputs": [
    {
     "name": "stdout",
     "output_type": "stream",
     "text": [
      "Hello World\n"
     ]
    }
   ],
   "source": [
    "message = 'Hello World'\n",
    "print(message)"
   ]
  },
  {
   "cell_type": "code",
   "execution_count": null,
   "metadata": {},
   "outputs": [],
   "source": []
  },
  {
   "cell_type": "markdown",
   "metadata": {},
   "source": [
    "# Q2:"
   ]
  },
  {
   "cell_type": "raw",
   "metadata": {},
   "source": [
    "Store a message in a variable, and print that message.\n",
    "Then change the value of your variable to a new message, and print the new\n",
    "message."
   ]
  },
  {
   "cell_type": "code",
   "execution_count": 2,
   "metadata": {},
   "outputs": [
    {
     "name": "stdout",
     "output_type": "stream",
     "text": [
      "Hello World\n",
      "Enter MessageHello\n",
      "Hello\n"
     ]
    }
   ],
   "source": [
    "message = 'Hello World'\n",
    "print(message)\n",
    "\n",
    "message = str(input('Enter Message'))\n",
    "print(message)"
   ]
  },
  {
   "cell_type": "code",
   "execution_count": null,
   "metadata": {},
   "outputs": [],
   "source": []
  },
  {
   "cell_type": "code",
   "execution_count": null,
   "metadata": {},
   "outputs": [],
   "source": []
  },
  {
   "cell_type": "code",
   "execution_count": null,
   "metadata": {},
   "outputs": [],
   "source": []
  },
  {
   "cell_type": "markdown",
   "metadata": {},
   "source": [
    "# Q3:"
   ]
  },
  {
   "cell_type": "raw",
   "metadata": {},
   "source": [
    "Store a person’s name in a variable, and print a message to that person. Your message should be simple, such as, “Hello Shahzad,\n",
    "would you like to learn some Python today?”"
   ]
  },
  {
   "cell_type": "code",
   "execution_count": 2,
   "metadata": {},
   "outputs": [
    {
     "name": "stdout",
     "output_type": "stream",
     "text": [
      "\"Hello Shehzad,\n",
      " would you like to learn some Python today?\"\n"
     ]
    }
   ],
   "source": [
    "variable = 'Shehzad'\n",
    "print(f'\"Hello {variable},\\n would you like to learn some Python today?\"')"
   ]
  },
  {
   "cell_type": "code",
   "execution_count": null,
   "metadata": {},
   "outputs": [],
   "source": []
  },
  {
   "cell_type": "markdown",
   "metadata": {},
   "source": [
    "# Q4:"
   ]
  },
  {
   "cell_type": "raw",
   "metadata": {},
   "source": [
    "Store a person’s name in a variable, and then print that person’s name in lowercase, uppercase, and titlecase."
   ]
  },
  {
   "cell_type": "code",
   "execution_count": 3,
   "metadata": {},
   "outputs": [
    {
     "name": "stdout",
     "output_type": "stream",
     "text": [
      "shehzad\n"
     ]
    }
   ],
   "source": [
    "variable = 'Shehzad'.lower()\n",
    "print(variable)"
   ]
  },
  {
   "cell_type": "code",
   "execution_count": 4,
   "metadata": {},
   "outputs": [
    {
     "name": "stdout",
     "output_type": "stream",
     "text": [
      "SHEHZAD\n"
     ]
    }
   ],
   "source": [
    "variable = 'Shehzad'.upper()\n",
    "print(variable)"
   ]
  },
  {
   "cell_type": "code",
   "execution_count": 5,
   "metadata": {},
   "outputs": [
    {
     "name": "stdout",
     "output_type": "stream",
     "text": [
      "Shehzad\n"
     ]
    }
   ],
   "source": [
    "variable = 'Shehzad'.title()\n",
    "print(variable)"
   ]
  },
  {
   "cell_type": "markdown",
   "metadata": {},
   "source": [
    "# Q5:"
   ]
  },
  {
   "cell_type": "raw",
   "metadata": {},
   "source": [
    "Find a quote from a famous person you admire. Print the\n",
    "quote and the name of its author. Your output should look something like the\n",
    "following, including the quotation marks:\n",
    "    \n",
    "    \n",
    "Albert Einstein once said, “A person who never made a\n",
    "mistake never tried anything new.”"
   ]
  },
  {
   "cell_type": "code",
   "execution_count": 8,
   "metadata": {},
   "outputs": [
    {
     "name": "stdout",
     "output_type": "stream",
     "text": [
      "Winston S. Churchill, \"Success is not final; failure is not fatal: \n",
      "It is the courage to continue that counts.\"\n"
     ]
    }
   ],
   "source": [
    "print('Winston S. Churchill, \"Success is not final; failure is not fatal: \\nIt is the courage to continue that counts.\"')"
   ]
  },
  {
   "cell_type": "code",
   "execution_count": null,
   "metadata": {},
   "outputs": [],
   "source": []
  },
  {
   "cell_type": "markdown",
   "metadata": {},
   "source": [
    "# Q6:"
   ]
  },
  {
   "cell_type": "raw",
   "metadata": {},
   "source": [
    "Write addition, subtraction, multiplication, and division\n",
    "operations that each result in the number 8. Be sure to enclose your operations\n",
    "in print statements to see the results. You should create four lines that look\n",
    "like this:\n",
    "    \n",
    "    \n",
    "print(5 + 3)"
   ]
  },
  {
   "cell_type": "code",
   "execution_count": 9,
   "metadata": {},
   "outputs": [
    {
     "name": "stdout",
     "output_type": "stream",
     "text": [
      "8\n"
     ]
    }
   ],
   "source": [
    "print (4 + 4)"
   ]
  },
  {
   "cell_type": "code",
   "execution_count": 10,
   "metadata": {},
   "outputs": [
    {
     "name": "stdout",
     "output_type": "stream",
     "text": [
      "8\n"
     ]
    }
   ],
   "source": [
    "print(12 - 4)"
   ]
  },
  {
   "cell_type": "code",
   "execution_count": 12,
   "metadata": {},
   "outputs": [
    {
     "name": "stdout",
     "output_type": "stream",
     "text": [
      "8\n"
     ]
    }
   ],
   "source": [
    "print(4*2)"
   ]
  },
  {
   "cell_type": "code",
   "execution_count": 14,
   "metadata": {},
   "outputs": [
    {
     "name": "stdout",
     "output_type": "stream",
     "text": [
      "8\n"
     ]
    }
   ],
   "source": [
    "print(16//2)"
   ]
  },
  {
   "cell_type": "markdown",
   "metadata": {},
   "source": [
    "# Q7:"
   ]
  },
  {
   "cell_type": "raw",
   "metadata": {},
   "source": [
    "Create a variable called number1 with the value of 8.\n",
    "Write a print statement to print number1 multiplied by 9."
   ]
  },
  {
   "cell_type": "code",
   "execution_count": 15,
   "metadata": {},
   "outputs": [
    {
     "name": "stdout",
     "output_type": "stream",
     "text": [
      "72\n"
     ]
    }
   ],
   "source": [
    "number1 = 8\n",
    "print(number1 * 9)"
   ]
  },
  {
   "cell_type": "code",
   "execution_count": null,
   "metadata": {},
   "outputs": [],
   "source": []
  },
  {
   "cell_type": "markdown",
   "metadata": {},
   "source": [
    "# Q8:"
   ]
  },
  {
   "cell_type": "raw",
   "metadata": {},
   "source": [
    "Store your favorite number in a variable. Then, using\n",
    "that variable, create a message that reveals your favorite number. Print that\n",
    "message."
   ]
  },
  {
   "cell_type": "code",
   "execution_count": 68,
   "metadata": {},
   "outputs": [
    {
     "name": "stdout",
     "output_type": "stream",
     "text": [
      "My favourit Number is 6\n"
     ]
    }
   ],
   "source": [
    "fav_number = 6\n",
    "print(f'My favourit Number is {fav_number}')"
   ]
  },
  {
   "cell_type": "code",
   "execution_count": null,
   "metadata": {},
   "outputs": [],
   "source": []
  },
  {
   "cell_type": "markdown",
   "metadata": {},
   "source": [
    "# Q9:"
   ]
  },
  {
   "cell_type": "raw",
   "metadata": {},
   "source": [
    "Store your name and your age in a varibale called my_name and my_age.\n",
    "Use format method to print your name and your age.\n",
    "Your final output sholud be like this:\n",
    "\n",
    "OUTPUT:    \n",
    "My name is Shahzad Ahsan and my age is 21.\n",
    "\n",
    "NOTE:Use both of the format methods which were discuss in the class."
   ]
  },
  {
   "cell_type": "code",
   "execution_count": 61,
   "metadata": {},
   "outputs": [
    {
     "name": "stdout",
     "output_type": "stream",
     "text": [
      "My name is Salman and my age is 20\n"
     ]
    }
   ],
   "source": [
    "my_name = 'Salman'\n",
    "my_age = 20\n",
    "\n",
    "print(f'My name is {my_name} and my age is {my_age}')\n"
   ]
  },
  {
   "cell_type": "code",
   "execution_count": 62,
   "metadata": {},
   "outputs": [
    {
     "name": "stdout",
     "output_type": "stream",
     "text": [
      "My name is Salman and my age is 20\n"
     ]
    }
   ],
   "source": [
    "print('My name is {0} and my age is {1}'.format(my_name,my_age))"
   ]
  },
  {
   "cell_type": "code",
   "execution_count": 66,
   "metadata": {},
   "outputs": [
    {
     "name": "stdout",
     "output_type": "stream",
     "text": [
      "My name is Salman and my age is 20\n"
     ]
    }
   ],
   "source": [
    "print(\"My name is \"+my_name+\" and my age is \"+str(my_age))"
   ]
  },
  {
   "cell_type": "code",
   "execution_count": null,
   "metadata": {},
   "outputs": [],
   "source": []
  },
  {
   "cell_type": "markdown",
   "metadata": {},
   "source": [
    "# Q10:"
   ]
  },
  {
   "cell_type": "raw",
   "metadata": {},
   "source": [
    "Write a Python program to check if a number is positive, negative or zero."
   ]
  },
  {
   "cell_type": "code",
   "execution_count": 18,
   "metadata": {},
   "outputs": [
    {
     "name": "stdout",
     "output_type": "stream",
     "text": [
      "Enter Number-6\n",
      "Negative\n"
     ]
    }
   ],
   "source": [
    "number = int(input('Enter Number'))\n",
    "\n",
    "if number == 0:\n",
    "    print('Zero')\n",
    "\n",
    "elif number > 0:\n",
    "    print('Positive')\n",
    "    \n",
    "elif number < 0:\n",
    "    print('Negative')"
   ]
  },
  {
   "cell_type": "code",
   "execution_count": null,
   "metadata": {},
   "outputs": [],
   "source": []
  },
  {
   "cell_type": "markdown",
   "metadata": {},
   "source": [
    "# Q11:"
   ]
  },
  {
   "cell_type": "raw",
   "metadata": {},
   "source": [
    "Write a Python program which accepts the radius of a circle from the user and compute the\n",
    "area."
   ]
  },
  {
   "cell_type": "code",
   "execution_count": 23,
   "metadata": {},
   "outputs": [
    {
     "name": "stdout",
     "output_type": "stream",
     "text": [
      "Enter Radius20\n",
      "1256.8\n"
     ]
    }
   ],
   "source": [
    "r = int(input('Enter Radius'))\n",
    "\n",
    "r2 = r * r\n",
    "area = 3.142 * r2\n",
    "print(area)"
   ]
  },
  {
   "cell_type": "code",
   "execution_count": null,
   "metadata": {},
   "outputs": [],
   "source": []
  },
  {
   "cell_type": "code",
   "execution_count": null,
   "metadata": {},
   "outputs": [],
   "source": []
  },
  {
   "cell_type": "markdown",
   "metadata": {},
   "source": [
    "# Q12:"
   ]
  },
  {
   "cell_type": "raw",
   "metadata": {},
   "source": [
    "Write a Python function to check whether a number is completely divisible by another\n",
    "number. Accept two integer values form the user"
   ]
  },
  {
   "cell_type": "code",
   "execution_count": 32,
   "metadata": {},
   "outputs": [
    {
     "name": "stdout",
     "output_type": "stream",
     "text": [
      "Enter Number5\n",
      "Enter Another Number6\n",
      "Your Number is not completely divisible\n"
     ]
    }
   ],
   "source": [
    "number1 = int(input('Enter Number'))\n",
    "number2 = int(input('Enter Another Number'))\n",
    "\n",
    "i = number1 % number2\n",
    "if i == 0:\n",
    "    print(i)\n",
    "    \n",
    "else:\n",
    "    print('Your Number is not completely divisible')\n",
    "\n"
   ]
  },
  {
   "cell_type": "code",
   "execution_count": null,
   "metadata": {},
   "outputs": [],
   "source": []
  },
  {
   "cell_type": "markdown",
   "metadata": {},
   "source": [
    "# Q13:"
   ]
  },
  {
   "cell_type": "raw",
   "metadata": {},
   "source": [
    "Write a Python program to find whether a given number (accept from the user) is even or\n",
    "odd, print out an appropriate message to the user."
   ]
  },
  {
   "cell_type": "code",
   "execution_count": 33,
   "metadata": {},
   "outputs": [
    {
     "name": "stdout",
     "output_type": "stream",
     "text": [
      "Enter Number5\n",
      "Enter Another Number2\n",
      "The number is odd\n"
     ]
    }
   ],
   "source": [
    "number1 = int(input('Enter Number'))\n",
    "number2 = int(input('Enter Another Number'))\n",
    "\n",
    "i = number1 % number2\n",
    "if i == 0:\n",
    "    print('The number is even')\n",
    "    \n",
    "else:\n",
    "    print('The number is odd')"
   ]
  },
  {
   "cell_type": "code",
   "execution_count": null,
   "metadata": {},
   "outputs": [],
   "source": []
  },
  {
   "cell_type": "markdown",
   "metadata": {},
   "source": [
    "# Q14:"
   ]
  },
  {
   "cell_type": "raw",
   "metadata": {},
   "source": [
    " Print a suitable statement that uses their response. Such as, if they entered “Bangkok”: “I’d love to visit Bangkook more often”."
   ]
  },
  {
   "cell_type": "code",
   "execution_count": 42,
   "metadata": {},
   "outputs": [
    {
     "name": "stdout",
     "output_type": "stream",
     "text": [
      "Bangkok\n",
      "“I’d love to visit Bangkook more often”.\n"
     ]
    }
   ],
   "source": [
    "button = str(input(''))\n",
    "\n",
    "if button == 'Bangkok':\n",
    "    print('“I’d love to visit Bangkook more often”.')"
   ]
  },
  {
   "cell_type": "code",
   "execution_count": null,
   "metadata": {},
   "outputs": [],
   "source": []
  },
  {
   "cell_type": "markdown",
   "metadata": {},
   "source": [
    "# Q15:"
   ]
  },
  {
   "cell_type": "raw",
   "metadata": {},
   "source": [
    "Write an input line to ask a user whether they want to take the red pill or the blue pill.\n",
    "\n",
    " If they write “red” then print “You stay in wonderland and see how far the rabbit hole goes”.\n",
    " \n",
    " Elif they write “blue” then print “You wake up in your bed and believe what you want to believe.”.\n",
    " \n",
    " Else print “That’s not an option Neo.”"
   ]
  },
  {
   "cell_type": "code",
   "execution_count": 54,
   "metadata": {},
   "outputs": [
    {
     "name": "stdout",
     "output_type": "stream",
     "text": [
      "rred\n",
      "“That’s not an option Neo.”\n"
     ]
    }
   ],
   "source": [
    "button = str(input(''))\n",
    "\n",
    "if button == 'red':\n",
    "    print('“You stay in wonderland and see how far the rabbit hole goes”.')\n",
    "    \n",
    "elif button == 'blue':\n",
    "    print('“You wake up in your bed and believe what you want to believe.”.')\n",
    "    \n",
    "else:\n",
    "    print('“That’s not an option Neo.”')"
   ]
  },
  {
   "cell_type": "code",
   "execution_count": null,
   "metadata": {},
   "outputs": [],
   "source": []
  },
  {
   "cell_type": "code",
   "execution_count": null,
   "metadata": {},
   "outputs": [],
   "source": []
  },
  {
   "cell_type": "code",
   "execution_count": null,
   "metadata": {},
   "outputs": [],
   "source": []
  },
  {
   "cell_type": "code",
   "execution_count": null,
   "metadata": {},
   "outputs": [],
   "source": []
  },
  {
   "cell_type": "code",
   "execution_count": null,
   "metadata": {},
   "outputs": [],
   "source": []
  },
  {
   "cell_type": "code",
   "execution_count": null,
   "metadata": {},
   "outputs": [],
   "source": []
  },
  {
   "cell_type": "code",
   "execution_count": null,
   "metadata": {},
   "outputs": [],
   "source": []
  },
  {
   "cell_type": "code",
   "execution_count": null,
   "metadata": {},
   "outputs": [],
   "source": []
  },
  {
   "cell_type": "code",
   "execution_count": null,
   "metadata": {},
   "outputs": [],
   "source": []
  },
  {
   "cell_type": "code",
   "execution_count": null,
   "metadata": {},
   "outputs": [],
   "source": []
  },
  {
   "cell_type": "code",
   "execution_count": null,
   "metadata": {},
   "outputs": [],
   "source": []
  },
  {
   "cell_type": "code",
   "execution_count": null,
   "metadata": {},
   "outputs": [],
   "source": []
  }
 ],
 "metadata": {
  "kernelspec": {
   "display_name": "Python 3",
   "language": "python",
   "name": "python3"
  },
  "language_info": {
   "codemirror_mode": {
    "name": "ipython",
    "version": 3
   },
   "file_extension": ".py",
   "mimetype": "text/x-python",
   "name": "python",
   "nbconvert_exporter": "python",
   "pygments_lexer": "ipython3",
   "version": "3.7.3"
  }
 },
 "nbformat": 4,
 "nbformat_minor": 2
}
