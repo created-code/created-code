{
 "cells": [
  {
   "cell_type": "code",
   "execution_count": 3,
   "metadata": {},
   "outputs": [
    {
     "name": "stdout",
     "output_type": "stream",
     "text": [
      "Enter Age18\n",
      "Enter Documentno\n",
      "Age is okay\n",
      "You dont have Documents \n",
      " You have to pay Challan\n"
     ]
    }
   ],
   "source": [
    "Age = int(input('Enter Age'))\n",
    "Documents = str(input('Enter Document')).lower()\n",
    "\n",
    "\n",
    "if Age >= 18 :\n",
    "    print('Age is okay')\n",
    "    \n",
    "    if Documents != 'Yes':\n",
    "        print('You dont have Documents \\n You have to pay Challan')\n",
    "    \n",
    "else: \n",
    "    print('You Have to pay Challan')\n"
   ]
  },
  {
   "cell_type": "code",
   "execution_count": null,
   "metadata": {},
   "outputs": [],
   "source": []
  },
  {
   "cell_type": "code",
   "execution_count": null,
   "metadata": {},
   "outputs": [],
   "source": []
  }
 ],
 "metadata": {
  "kernelspec": {
   "display_name": "Python 3",
   "language": "python",
   "name": "python3"
  },
  "language_info": {
   "codemirror_mode": {
    "name": "ipython",
    "version": 3
   },
   "file_extension": ".py",
   "mimetype": "text/x-python",
   "name": "python",
   "nbconvert_exporter": "python",
   "pygments_lexer": "ipython3",
   "version": "3.7.3"
  }
 },
 "nbformat": 4,
 "nbformat_minor": 2
}
